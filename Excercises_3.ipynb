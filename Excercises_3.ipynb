{
 "cells": [
  {
   "cell_type": "markdown",
   "metadata": {},
   "source": [
    "# Загрузка базы вопросов ЧГК\n",
    "\n",
    "Нужно загрузить все доступные вопросы и ответы к ним с базы http:///db.chgk.info . Результаты необходимо сохранить в каком-либо формате в форме вопрос-ответ (pickle, sqlite, текстовый файл и т.д.). "
   ]
  },
  {
   "cell_type": "code",
   "execution_count": 48,
   "metadata": {},
   "outputs": [],
   "source": [
    "import requests\n",
    "\n",
    "\n",
    "from bs4 import BeautifulSoup\n",
    "from tqdm import tqdm"
   ]
  },
  {
   "cell_type": "code",
   "execution_count": 10,
   "metadata": {},
   "outputs": [],
   "source": [
    "from collections import namedtuple"
   ]
  },
  {
   "cell_type": "code",
   "execution_count": 34,
   "metadata": {},
   "outputs": [],
   "source": [
    "Question = namedtuple(\"Question\", [\"question\", \"answer\", \"author\"])"
   ]
  },
  {
   "cell_type": "code",
   "execution_count": 18,
   "metadata": {},
   "outputs": [],
   "source": [
    "base_path = \"http://db.chgk.info\""
   ]
  },
  {
   "cell_type": "code",
   "execution_count": 70,
   "metadata": {},
   "outputs": [],
   "source": [
    "def parse_page(link):\n",
    "    full_path = \"{}/{}\".format(base_path, link)\n",
    "    \n",
    "    with requests.get(full_path) as page:\n",
    "        soup = BeautifulSoup(page.text, \"lxml\")\n",
    "        \n",
    "    questions_from_page = []\n",
    "        \n",
    "    for even in tqdm(soup.findAll(\"tr\", {\"class\": \"even\"})):\n",
    "        tour_links = el.findChildren(\"td\")[1].findAll(\"a\")\n",
    "\n",
    "        for l in tour_links:\n",
    "            questions_from_page += parse_tour(l['href'])\n",
    "            \n",
    "    for odd in tqdm(soup.findAll(\"tr\", {\"class\": \"odd\"})):\n",
    "        tour_links = el.findChildren(\"td\")[1].findAll(\"a\")\n",
    "\n",
    "        for l in tour_links:\n",
    "            questions_from_page += parse_tour(l['href'])\n",
    "            \n",
    "    next_page = soup.find(\"li\", {\"class\": \"pager-next\"}).find(\"a\")['href']\n",
    "            \n",
    "    return questions_from_page, next_page"
   ]
  },
  {
   "cell_type": "code",
   "execution_count": 71,
   "metadata": {},
   "outputs": [],
   "source": [
    "def parse_tour(link):\n",
    "    full_path = \"{}/{}\".format(base_path, link)\n",
    "    \n",
    "    \n",
    "    with requests.get(full_path) as page:\n",
    "        page_soup = BeautifulSoup(page.text, \"lxml\")\n",
    "        \n",
    "    questions = []\n",
    "    \n",
    "    for q in page_soup.findAll(\"div\", {\"class\": \"question\"}):\n",
    "        question = q.findChildren(\"p\")[0].get_text().strip().replace(\"\\n\", \" \")\n",
    "        \n",
    "        wrapper = q.find(\"div\", {\"class\": \"collapsed\"})\n",
    "        paragraphs = wrapper.findAll(\"p\")\n",
    "        \n",
    "        answer = paragraphs[0].get_text().strip().replace(\"\\n\", \" \")\n",
    "        author = paragraphs[-1].get_text().strip().replace(\"\\n\", \" \")\n",
    "        \n",
    "        Q = {\n",
    "            'question': question,\n",
    "            'answer': answer,\n",
    "            'author': author\n",
    "        }\n",
    "        questions.append(Q)\n",
    "    \n",
    "    return questions"
   ]
  },
  {
   "cell_type": "code",
   "execution_count": null,
   "metadata": {},
   "outputs": [
    {
     "name": "stdout",
     "output_type": "stream",
     "text": [
      "Next page : last\n"
     ]
    },
    {
     "name": "stderr",
     "output_type": "stream",
     "text": [
      " 14%|█▍        | 7/50 [00:08<00:54,  1.26s/it]"
     ]
    }
   ],
   "source": [
    "current_page = \"last\"\n",
    "\n",
    "all_questions = []\n",
    "\n",
    "while current_page is not None:\n",
    "    print(\"Next page : {}\".format(current_page))\n",
    "    questions, current_page = parse_page(current_page)\n",
    "    all_questions += questions\n",
    "    break"
   ]
  },
  {
   "cell_type": "code",
   "execution_count": 59,
   "metadata": {},
   "outputs": [],
   "source": [
    "import json"
   ]
  },
  {
   "cell_type": "code",
   "execution_count": 68,
   "metadata": {},
   "outputs": [],
   "source": [
    "json.dump(all_questions, open(\"questions.json\", \"w\"))"
   ]
  },
  {
   "cell_type": "code",
   "execution_count": null,
   "metadata": {},
   "outputs": [],
   "source": []
  }
 ],
 "metadata": {
  "kernelspec": {
   "display_name": "Python 3",
   "language": "python",
   "name": "python3"
  },
  "language_info": {
   "codemirror_mode": {
    "name": "ipython",
    "version": 3
   },
   "file_extension": ".py",
   "mimetype": "text/x-python",
   "name": "python",
   "nbconvert_exporter": "python",
   "pygments_lexer": "ipython3",
   "version": "3.6.1"
  }
 },
 "nbformat": 4,
 "nbformat_minor": 1
}
